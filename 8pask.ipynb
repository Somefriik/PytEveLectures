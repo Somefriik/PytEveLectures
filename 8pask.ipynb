{
 "cells": [
  {
   "cell_type": "code",
   "execution_count": null,
   "source": [
    "import pandas as pd"
   ],
   "outputs": [],
   "metadata": {}
  },
  {
   "cell_type": "code",
   "execution_count": null,
   "source": [
    "df = pd.DataFrame(\r\n",
    "\t[ ['Jan',58,42,74,22,2.05],\r\n",
    "\t['Feb',61,45,78,26,3.02],\r\n",
    "\t['Mar',65,48,84,25,2.34],\r\n",
    "\t['Apr',67,50,92,28,1.02],\r\n",
    "\t['May',71,53,98,35,0.48],\r\n",
    "\t['Jun',75,56,107,41,0.11],\r\n",
    "\t['Jul',77,58,105,44,0.0],\r\n",
    "\t['Aug',77,59,102,43,0.03],\r\n",
    "\t['Sep',77,57,103,40,0.17],\r\n",
    "\t['Oct',73,54,96,34,0.81],\r\n",
    "\t['Nov',64,48,84,30,1.7],\r\n",
    "\t['Dec',58,42,73,21,2.56],\r\n",
    "        ['Dec',58,42,73,21,2.56] ],\r\n",
    "\tcolumns = ['month','avg_high','avg_low','record_high','record_low','avg_precipitation'])\r\n"
   ],
   "outputs": [],
   "metadata": {}
  },
  {
   "cell_type": "code",
   "execution_count": null,
   "source": [
    "df"
   ],
   "outputs": [],
   "metadata": {}
  },
  {
   "cell_type": "code",
   "execution_count": null,
   "source": [
    "df.info()"
   ],
   "outputs": [],
   "metadata": {}
  },
  {
   "cell_type": "code",
   "execution_count": null,
   "source": [
    "df.describe()\r\n"
   ],
   "outputs": [],
   "metadata": {}
  },
  {
   "cell_type": "code",
   "execution_count": null,
   "source": [
    "df.head(10)"
   ],
   "outputs": [],
   "metadata": {}
  },
  {
   "cell_type": "code",
   "execution_count": null,
   "source": [
    "df.tail()"
   ],
   "outputs": [],
   "metadata": {}
  },
  {
   "cell_type": "code",
   "execution_count": null,
   "source": [
    "df.columns"
   ],
   "outputs": [],
   "metadata": {}
  },
  {
   "cell_type": "code",
   "execution_count": null,
   "source": [
    "df.sort_values([\"avg_high\" , \"record_high\"] , ascending=[True , False])"
   ],
   "outputs": [],
   "metadata": {}
  },
  {
   "cell_type": "code",
   "execution_count": null,
   "source": [
    "df[\"record_low\"] #.[] is not recommended"
   ],
   "outputs": [],
   "metadata": {}
  },
  {
   "cell_type": "code",
   "execution_count": null,
   "source": [
    "df[\"naujas\"] = [x for x in range(5, 5+len(df))]\r\n",
    "df"
   ],
   "outputs": [],
   "metadata": {}
  },
  {
   "cell_type": "code",
   "execution_count": null,
   "source": [
    "#df doesn't overwrite, use = on new vars"
   ],
   "outputs": [],
   "metadata": {}
  },
  {
   "cell_type": "code",
   "execution_count": null,
   "source": [
    "df.loc[9] # works by value of index, iloc for factual index"
   ],
   "outputs": [],
   "metadata": {}
  },
  {
   "cell_type": "code",
   "execution_count": null,
   "source": [
    "df.to_csv(\"duombai.csv\")"
   ],
   "outputs": [],
   "metadata": {}
  },
  {
   "cell_type": "code",
   "execution_count": 38,
   "source": [
    "df = pd.read_csv(\"LT.csv\")\r\n",
    "df"
   ],
   "outputs": [
    {
     "output_type": "execute_result",
     "data": {
      "text/plain": [
       "           date   home_team  away_team  home_score  away_score  \\\n",
       "0    1979-07-20  Kyrgyzstan  Lithuania           0           0   \n",
       "1    1979-07-22     Georgia  Lithuania           5           0   \n",
       "2    1979-07-24  Azerbaijan  Lithuania           0           1   \n",
       "3    1979-07-28   Lithuania    Ukraine           0           2   \n",
       "4    1979-07-30      Russia  Lithuania           2           0   \n",
       "..          ...         ...        ...         ...         ...   \n",
       "362  2019-09-10   Lithuania   Portugal           1           5   \n",
       "363  2019-10-11     Ukraine  Lithuania           2           0   \n",
       "364  2019-10-11     Ukraine  Lithuania           2           0   \n",
       "365  2019-10-14   Lithuania     Serbia           1           2   \n",
       "366  2019-10-14   Lithuania     Serbia           1           2   \n",
       "\n",
       "                  tourniment     city       country  \n",
       "0                   Friendly   Moscow  Soviet Union  \n",
       "1                   Friendly   Moscow  Soviet Union  \n",
       "2                   Friendly   Moscow  Soviet Union  \n",
       "3                   Friendly   Moscow  Soviet Union  \n",
       "4                   Friendly   Moscow  Soviet Union  \n",
       "..                       ...      ...           ...  \n",
       "362  UEFA Euro qualification  Vilnius     Lithuania  \n",
       "363  UEFA Euro qualification  Kharkiv       Ukraine  \n",
       "364  UEFA Euro qualification  Kharkiv       Ukraine  \n",
       "365  UEFA Euro qualification  Vilnius     Lithuania  \n",
       "366  UEFA Euro qualification  Vilnius     Lithuania  \n",
       "\n",
       "[367 rows x 8 columns]"
      ],
      "text/html": [
       "<div>\n",
       "<style scoped>\n",
       "    .dataframe tbody tr th:only-of-type {\n",
       "        vertical-align: middle;\n",
       "    }\n",
       "\n",
       "    .dataframe tbody tr th {\n",
       "        vertical-align: top;\n",
       "    }\n",
       "\n",
       "    .dataframe thead th {\n",
       "        text-align: right;\n",
       "    }\n",
       "</style>\n",
       "<table border=\"1\" class=\"dataframe\">\n",
       "  <thead>\n",
       "    <tr style=\"text-align: right;\">\n",
       "      <th></th>\n",
       "      <th>date</th>\n",
       "      <th>home_team</th>\n",
       "      <th>away_team</th>\n",
       "      <th>home_score</th>\n",
       "      <th>away_score</th>\n",
       "      <th>tourniment</th>\n",
       "      <th>city</th>\n",
       "      <th>country</th>\n",
       "    </tr>\n",
       "  </thead>\n",
       "  <tbody>\n",
       "    <tr>\n",
       "      <th>0</th>\n",
       "      <td>1979-07-20</td>\n",
       "      <td>Kyrgyzstan</td>\n",
       "      <td>Lithuania</td>\n",
       "      <td>0</td>\n",
       "      <td>0</td>\n",
       "      <td>Friendly</td>\n",
       "      <td>Moscow</td>\n",
       "      <td>Soviet Union</td>\n",
       "    </tr>\n",
       "    <tr>\n",
       "      <th>1</th>\n",
       "      <td>1979-07-22</td>\n",
       "      <td>Georgia</td>\n",
       "      <td>Lithuania</td>\n",
       "      <td>5</td>\n",
       "      <td>0</td>\n",
       "      <td>Friendly</td>\n",
       "      <td>Moscow</td>\n",
       "      <td>Soviet Union</td>\n",
       "    </tr>\n",
       "    <tr>\n",
       "      <th>2</th>\n",
       "      <td>1979-07-24</td>\n",
       "      <td>Azerbaijan</td>\n",
       "      <td>Lithuania</td>\n",
       "      <td>0</td>\n",
       "      <td>1</td>\n",
       "      <td>Friendly</td>\n",
       "      <td>Moscow</td>\n",
       "      <td>Soviet Union</td>\n",
       "    </tr>\n",
       "    <tr>\n",
       "      <th>3</th>\n",
       "      <td>1979-07-28</td>\n",
       "      <td>Lithuania</td>\n",
       "      <td>Ukraine</td>\n",
       "      <td>0</td>\n",
       "      <td>2</td>\n",
       "      <td>Friendly</td>\n",
       "      <td>Moscow</td>\n",
       "      <td>Soviet Union</td>\n",
       "    </tr>\n",
       "    <tr>\n",
       "      <th>4</th>\n",
       "      <td>1979-07-30</td>\n",
       "      <td>Russia</td>\n",
       "      <td>Lithuania</td>\n",
       "      <td>2</td>\n",
       "      <td>0</td>\n",
       "      <td>Friendly</td>\n",
       "      <td>Moscow</td>\n",
       "      <td>Soviet Union</td>\n",
       "    </tr>\n",
       "    <tr>\n",
       "      <th>...</th>\n",
       "      <td>...</td>\n",
       "      <td>...</td>\n",
       "      <td>...</td>\n",
       "      <td>...</td>\n",
       "      <td>...</td>\n",
       "      <td>...</td>\n",
       "      <td>...</td>\n",
       "      <td>...</td>\n",
       "    </tr>\n",
       "    <tr>\n",
       "      <th>362</th>\n",
       "      <td>2019-09-10</td>\n",
       "      <td>Lithuania</td>\n",
       "      <td>Portugal</td>\n",
       "      <td>1</td>\n",
       "      <td>5</td>\n",
       "      <td>UEFA Euro qualification</td>\n",
       "      <td>Vilnius</td>\n",
       "      <td>Lithuania</td>\n",
       "    </tr>\n",
       "    <tr>\n",
       "      <th>363</th>\n",
       "      <td>2019-10-11</td>\n",
       "      <td>Ukraine</td>\n",
       "      <td>Lithuania</td>\n",
       "      <td>2</td>\n",
       "      <td>0</td>\n",
       "      <td>UEFA Euro qualification</td>\n",
       "      <td>Kharkiv</td>\n",
       "      <td>Ukraine</td>\n",
       "    </tr>\n",
       "    <tr>\n",
       "      <th>364</th>\n",
       "      <td>2019-10-11</td>\n",
       "      <td>Ukraine</td>\n",
       "      <td>Lithuania</td>\n",
       "      <td>2</td>\n",
       "      <td>0</td>\n",
       "      <td>UEFA Euro qualification</td>\n",
       "      <td>Kharkiv</td>\n",
       "      <td>Ukraine</td>\n",
       "    </tr>\n",
       "    <tr>\n",
       "      <th>365</th>\n",
       "      <td>2019-10-14</td>\n",
       "      <td>Lithuania</td>\n",
       "      <td>Serbia</td>\n",
       "      <td>1</td>\n",
       "      <td>2</td>\n",
       "      <td>UEFA Euro qualification</td>\n",
       "      <td>Vilnius</td>\n",
       "      <td>Lithuania</td>\n",
       "    </tr>\n",
       "    <tr>\n",
       "      <th>366</th>\n",
       "      <td>2019-10-14</td>\n",
       "      <td>Lithuania</td>\n",
       "      <td>Serbia</td>\n",
       "      <td>1</td>\n",
       "      <td>2</td>\n",
       "      <td>UEFA Euro qualification</td>\n",
       "      <td>Vilnius</td>\n",
       "      <td>Lithuania</td>\n",
       "    </tr>\n",
       "  </tbody>\n",
       "</table>\n",
       "<p>367 rows × 8 columns</p>\n",
       "</div>"
      ]
     },
     "metadata": {},
     "execution_count": 38
    }
   ],
   "metadata": {}
  },
  {
   "cell_type": "code",
   "execution_count": null,
   "source": [
    "df[ (df[\"home_team\"] == \"Lithuania\" ) & (df[\"home_score\"] >=2) ]\r\n",
    "#look up bitwise operators , ~ filters out described values"
   ],
   "outputs": [],
   "metadata": {}
  },
  {
   "cell_type": "code",
   "execution_count": null,
   "source": [
    "df[ df[\"city\"].isin([\"Vilnius\" , \"Kaunas\"])]"
   ],
   "outputs": [],
   "metadata": {}
  },
  {
   "cell_type": "code",
   "execution_count": null,
   "source": [
    "df.groupby(\"home_team\").sum()"
   ],
   "outputs": [],
   "metadata": {}
  },
  {
   "cell_type": "code",
   "execution_count": null,
   "source": [
    "df.sort_values(\"date\")"
   ],
   "outputs": [],
   "metadata": {}
  },
  {
   "cell_type": "code",
   "execution_count": 36,
   "source": [
    "df = df.rename(columns={\"tourniment\" : \"tournament\"}, inplace=True)"
   ],
   "outputs": [],
   "metadata": {}
  },
  {
   "cell_type": "code",
   "execution_count": 41,
   "source": [
    "tournament_df = df[ df[\"away_team\" ] == \"Lithuania\" ].groupby(\"tourniment\")[[\"home_score\" , \"away_score\"]].sum()"
   ],
   "outputs": [],
   "metadata": {}
  },
  {
   "cell_type": "code",
   "execution_count": 42,
   "source": [
    "tournament_df.loc[\"FIFA World Cup qualification\"]"
   ],
   "outputs": [
    {
     "output_type": "execute_result",
     "data": {
      "text/plain": [
       "home_score    80\n",
       "away_score    29\n",
       "Name: FIFA World Cup qualification, dtype: int64"
      ]
     },
     "metadata": {},
     "execution_count": 42
    }
   ],
   "metadata": {}
  }
 ],
 "metadata": {
  "orig_nbformat": 4,
  "language_info": {
   "name": "python",
   "version": "3.9.6",
   "mimetype": "text/x-python",
   "codemirror_mode": {
    "name": "ipython",
    "version": 3
   },
   "pygments_lexer": "ipython3",
   "nbconvert_exporter": "python",
   "file_extension": ".py"
  },
  "kernelspec": {
   "name": "python3",
   "display_name": "Python 3.9.6 64-bit"
  },
  "interpreter": {
   "hash": "0d008810b9c8467bcb3ca39aa2180e5b81b3a9acb136aab30d47954377cc5120"
  }
 },
 "nbformat": 4,
 "nbformat_minor": 2
}