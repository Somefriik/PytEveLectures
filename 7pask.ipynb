{
 "cells": [
  {
   "cell_type": "code",
   "execution_count": null,
   "source": [
    "class Pipe:\r\n",
    "    def __init__(self , diameter , crossection_type = \"round\"):\r\n",
    "        self.diameter = diameter\r\n",
    "        self.crossection = crossection_type\r\n",
    "\r\n",
    "    def flow_rate(self , velocity):\r\n",
    "        return self.cross_section() * velocity\r\n",
    "    \r\n",
    "    def cross_section(self):\r\n",
    "        area = None\r\n",
    "        if self.crossection == \"round\":\r\n",
    "            area = 3.14 * (self.diameter / 2) ** 2\r\n",
    "        else:\r\n",
    "            raise NotImplementedError\r\n",
    "        return area"
   ],
   "outputs": [],
   "metadata": {}
  },
  {
   "cell_type": "code",
   "execution_count": null,
   "source": [
    "pipe1 = Pipe(3)\r\n",
    "pipe2 = Pipe(5)\r\n",
    "print(\"p1d : \" , pipe1.diameter)\r\n",
    "print(\"p1d : \" , pipe2.diameter)\r\n",
    "print(pipe1.cross_section())\r\n",
    "print(pipe2.cross_section())\r\n",
    "print(pipe1.flow_rate(3))"
   ],
   "outputs": [],
   "metadata": {}
  },
  {
   "cell_type": "code",
   "execution_count": null,
   "source": [
    "#abstract class:\r\n",
    "#def __init__(self):\r\n",
    "    #pass\r\n",
    "#def methods with unnasigned vars and undefined methods\r\n",
    "#when inheriting : \r\n",
    "# class SomeClass(InheritedClass):\r\n",
    "# super().__init__( ) - gets the initialization method\r\n",
    "\r\n",
    "#__eq__ - for setting and comparing values\r\n",
    "#__str__ - gets class attributes and method returns into string format\r\n",
    "#__repr__ - more value return formating"
   ],
   "outputs": [],
   "metadata": {}
  },
  {
   "cell_type": "code",
   "execution_count": 23,
   "source": [
    "class Book:\r\n",
    "    def __init__(self , title , author , year , page_count , owner = None , lease_time = None ):\r\n",
    "        self.title = title\r\n",
    "        self.author = author\r\n",
    "        self.year = year\r\n",
    "        self.page_count = page_count\r\n",
    "        self.owner = owner\r\n",
    "        self.lease_time = lease_time\r\n",
    "\r\n",
    "    def set_owner(self , new_owner):\r\n",
    "        self.owner = new_owner"
   ],
   "outputs": [],
   "metadata": {}
  },
  {
   "cell_type": "code",
   "execution_count": 25,
   "source": [
    "class Librarium(Book):\r\n",
    "    def __init__(self , name ): #mutable objects don't pass well as args\r\n",
    "        self.name = name\r\n",
    "        self.books = []\r\n",
    "    \r\n",
    "    def add_book(self , book):\r\n",
    "        self.book.append(book)\r\n",
    "    \r\n",
    "    def remove_book(self , book_to_remove):\r\n",
    "        self.book.remove(book_to_remove)\r\n",
    "        #for idx, book in enumerate (self.books)\r\n",
    "    \r\n",
    "    def book_lending(self , book_title, user):\r\n",
    "        for book in self.books:\r\n",
    "            if book.title == book_title and book.owner is None:\r\n",
    "                book.set_owner(user) # make method or variable\r\n",
    "        return False"
   ],
   "outputs": [],
   "metadata": {}
  }
 ],
 "metadata": {
  "orig_nbformat": 4,
  "language_info": {
   "name": "python",
   "version": "3.9.6",
   "mimetype": "text/x-python",
   "codemirror_mode": {
    "name": "ipython",
    "version": 3
   },
   "pygments_lexer": "ipython3",
   "nbconvert_exporter": "python",
   "file_extension": ".py"
  },
  "kernelspec": {
   "name": "python3",
   "display_name": "Python 3.9.6 64-bit"
  },
  "interpreter": {
   "hash": "0d008810b9c8467bcb3ca39aa2180e5b81b3a9acb136aab30d47954377cc5120"
  }
 },
 "nbformat": 4,
 "nbformat_minor": 2
}