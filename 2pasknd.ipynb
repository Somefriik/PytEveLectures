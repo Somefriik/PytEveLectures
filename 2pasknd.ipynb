{
 "cells": [
  {
   "cell_type": "code",
   "execution_count": null,
   "source": [
    "fizzynums = range(1 , 101)\r\n",
    "for numbs in fizzynums:\r\n",
    "    if numbs % 2 == 0 and numbs % 3 == 0:\r\n",
    "        print(\"FizzBuzz\")\r\n",
    "    elif numbs % 2 == 0 :\r\n",
    "        print(\"Fizz\")\r\n",
    "    elif numbs % 3 == 0 :\r\n",
    "        print(\"Buzz\")\r\n",
    "    else:\r\n",
    "        print (numbs)"
   ],
   "outputs": [],
   "metadata": {}
  },
  {
   "cell_type": "code",
   "execution_count": 16,
   "source": [
    "a_number = None\r\n",
    "a_number = int( input(\"Choose a number\") )\r\n",
    "for nombs in range(1 , a_number):\r\n",
    "    if a_number >= 10 :\r\n",
    "        print(nombs % 5)\r\n",
    "    else:\r\n",
    "        print (\"Small number\")"
   ],
   "outputs": [
    {
     "output_type": "stream",
     "name": "stdout",
     "text": [
      "1\n",
      "2\n",
      "3\n",
      "4\n",
      "0\n",
      "1\n",
      "2\n",
      "3\n",
      "4\n",
      "0\n",
      "1\n"
     ]
    }
   ],
   "metadata": {}
  }
 ],
 "metadata": {
  "orig_nbformat": 4,
  "language_info": {
   "name": "python",
   "version": "3.9.6",
   "mimetype": "text/x-python",
   "codemirror_mode": {
    "name": "ipython",
    "version": 3
   },
   "pygments_lexer": "ipython3",
   "nbconvert_exporter": "python",
   "file_extension": ".py"
  },
  "kernelspec": {
   "name": "python3",
   "display_name": "Python 3.9.6 64-bit"
  },
  "interpreter": {
   "hash": "0d008810b9c8467bcb3ca39aa2180e5b81b3a9acb136aab30d47954377cc5120"
  }
 },
 "nbformat": 4,
 "nbformat_minor": 2
}