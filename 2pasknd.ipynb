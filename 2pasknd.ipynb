{
 "cells": [
  {
   "cell_type": "code",
   "execution_count": null,
   "source": [
    "fizzynums = range(1 , 101)\r\n",
    "for numbs in fizzynums:\r\n",
    "    if numbs % 2 == 0 and numbs % 3 == 0:\r\n",
    "        print(\"FizzBuzz\")\r\n",
    "    elif numbs % 2 == 0 :\r\n",
    "        print(\"Fizz\")\r\n",
    "    elif numbs % 3 == 0 :\r\n",
    "        print(\"Buzz\")\r\n",
    "    else:\r\n",
    "        print (numbs)"
   ],
   "outputs": [],
   "metadata": {}
  },
  {
   "cell_type": "code",
   "execution_count": null,
   "source": [
    "a_number = None\r\n",
    "a_number = int( input(\"Choose a number\") )\r\n",
    "for nombs in range(1 , a_number + 1):\r\n",
    "    if a_number < 10:\r\n",
    "        print (\"Small number\")\r\n",
    "        break\r\n",
    "    elif a_number >= 10 and nombs % 5 > 0 :\r\n",
    "        print(nombs)\r\n",
    "    else:\r\n",
    "        print (f'{nombs}' + ' divides without remainder')"
   ],
   "outputs": [],
   "metadata": {}
  },
  {
   "cell_type": "code",
   "execution_count": null,
   "source": [
    "mega_list = []\r\n",
    "list_a = ['1','2','3','4','5']\r\n",
    "list_b = ['labas', 'vakaras', 'kokia grazi diena', 'siandien uz lango', '10 laipsniu silumos']\r\n",
    "list_c = ['100', '200', 40, 10]\r\n",
    "\r\n",
    "for a_items in list_a:\r\n",
    "    for b_items in list_b:\r\n",
    "        for c_items in list_c:\r\n",
    "            mega_list.append ( [list_a , list_b ,int (list_c)] )\r\n",
    "\r\n",
    "print (len(mega_list))\r\n",
    "mega_list.sort(key= lambda x: x[2], reverse=True)\r\n",
    "#mega_list2 = sorted(mega_list , reverse=True)\r\n"
   ],
   "outputs": [],
   "metadata": {}
  }
 ],
 "metadata": {
  "orig_nbformat": 4,
  "language_info": {
   "name": "python",
   "version": "3.9.6",
   "mimetype": "text/x-python",
   "codemirror_mode": {
    "name": "ipython",
    "version": 3
   },
   "pygments_lexer": "ipython3",
   "nbconvert_exporter": "python",
   "file_extension": ".py"
  },
  "kernelspec": {
   "name": "python3",
   "display_name": "Python 3.9.6 64-bit"
  },
  "interpreter": {
   "hash": "0d008810b9c8467bcb3ca39aa2180e5b81b3a9acb136aab30d47954377cc5120"
  }
 },
 "nbformat": 4,
 "nbformat_minor": 2
}