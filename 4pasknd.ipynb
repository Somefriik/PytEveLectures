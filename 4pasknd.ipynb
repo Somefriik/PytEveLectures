{
 "cells": [
  {
   "cell_type": "code",
   "execution_count": null,
   "source": [
    "symb_list = []\r\n",
    "def take_string (a_string):\r\n",
    "    a_string = input('')\r\n",
    "    for symb in a_string:\r\n",
    "        symb_list.append(symb) \r\n",
    "\r\n"
   ],
   "outputs": [],
   "metadata": {}
  },
  {
   "cell_type": "code",
   "execution_count": null,
   "source": [
    "\r\n"
   ],
   "outputs": [],
   "metadata": {}
  }
 ],
 "metadata": {
  "orig_nbformat": 4,
  "language_info": {
   "name": "python"
  }
 },
 "nbformat": 4,
 "nbformat_minor": 2
}