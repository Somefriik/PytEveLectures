{
 "cells": [
  {
   "cell_type": "code",
   "execution_count": null,
   "source": [
    "my_name = 'Vytautas'\r\n",
    "my_surname = 'Stulpinas'\r\n",
    "print(f\"My name: '{my_name}', and my surname: '{my_surname}'\")"
   ],
   "outputs": [],
   "metadata": {}
  },
  {
   "cell_type": "code",
   "execution_count": null,
   "source": [
    "str = \"Python makes me really really happy\"\r\n",
    "print(str.upper())\r\n",
    "print(str.replace(\"Python\" , \"PyThOn\"))"
   ],
   "outputs": [],
   "metadata": {}
  },
  {
   "cell_type": "code",
   "execution_count": 59,
   "source": [
    "_happy_learn = \"Hello World, I am happy to learn Python!\"\r\n",
    "happy_2 = _happy_learn.index(\"happy\")\r\n",
    "happy_4 = len(\"happy\")\r\n",
    "print (_happy_learn [happy_2 : 23]) #happy_4 - paima abu kintamuosius, nemeta klaidos ,bet print funkcijos neatlieka\r\n",
    "toTO_1 = _happy_learn.index(\"to\")\r\n",
    "toTO_2 = len(\"to\")\r\n",
    "print(_happy_learn [toTO_1 : toTO_2]) #same problem here"
   ],
   "outputs": [
    {
     "output_type": "stream",
     "name": "stdout",
     "text": [
      "happy\n",
      "\n"
     ]
    }
   ],
   "metadata": {}
  },
  {
   "cell_type": "code",
   "execution_count": 60,
   "source": [
    "happy_list = [_happy_learn]\r\n",
    "_happy_5 = _happy_learn.index(\"happy\")\r\n",
    "#happy_item = happy_5\r\n",
    "for happy_5 in happy_list:\r\n",
    "    print (happy_5.upper()) #kodėl printina list o ne variable? kodėl variable pakeičia reikšmę?"
   ],
   "outputs": [
    {
     "output_type": "stream",
     "name": "stdout",
     "text": [
      "HELLO WORLD, I AM HAPPY TO LEARN PYTHON!\n"
     ]
    }
   ],
   "metadata": {}
  },
  {
   "cell_type": "code",
   "execution_count": null,
   "source": [],
   "outputs": [],
   "metadata": {}
  }
 ],
 "metadata": {
  "orig_nbformat": 4,
  "language_info": {
   "name": "python",
   "version": "3.9.6",
   "mimetype": "text/x-python",
   "codemirror_mode": {
    "name": "ipython",
    "version": 3
   },
   "pygments_lexer": "ipython3",
   "nbconvert_exporter": "python",
   "file_extension": ".py"
  },
  "kernelspec": {
   "name": "python3",
   "display_name": "Python 3.9.6 64-bit"
  },
  "interpreter": {
   "hash": "0d008810b9c8467bcb3ca39aa2180e5b81b3a9acb136aab30d47954377cc5120"
  }
 },
 "nbformat": 4,
 "nbformat_minor": 2
}