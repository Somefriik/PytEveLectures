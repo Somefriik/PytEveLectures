{
 "cells": [
  {
   "cell_type": "code",
   "execution_count": 9,
   "source": [
    "my_name = 'Vytautas'\r\n",
    "my_surname = 'Stulpinas'\r\n",
    "print(f\"My name: '{my_name}', and my surname: '{my_surname}'\")"
   ],
   "outputs": [
    {
     "output_type": "stream",
     "name": "stdout",
     "text": [
      "My name: 'Vytautas', and my surname: 'Stulpinas'\n"
     ]
    }
   ],
   "metadata": {}
  },
  {
   "cell_type": "code",
   "execution_count": 16,
   "source": [
    "str = \"Python makes me really really happy\"\r\n",
    "print(str.upper())\r\n",
    "print(str.replace(\"Python\" , \"PyThOn\"))"
   ],
   "outputs": [
    {
     "output_type": "stream",
     "name": "stdout",
     "text": [
      "PYTHON MAKES ME REALLY REALLY HAPPY\n",
      "PyThOn makes me really really happy\n"
     ]
    }
   ],
   "metadata": {}
  },
  {
   "cell_type": "code",
   "execution_count": 41,
   "source": [
    "happy_learn = \"Hello World, I am happy to learn Python!\"\r\n",
    "happy_2 = happy_learn.index(\"happy\")\r\n",
    "happy_4 = len(\"happy\")\r\n",
    "print (happy_learn [happy_2 : happy_4])"
   ],
   "outputs": [
    {
     "output_type": "stream",
     "name": "stdout",
     "text": [
      "\n"
     ]
    }
   ],
   "metadata": {}
  },
  {
   "cell_type": "code",
   "execution_count": null,
   "source": [],
   "outputs": [],
   "metadata": {}
  }
 ],
 "metadata": {
  "orig_nbformat": 4,
  "language_info": {
   "name": "python",
   "version": "3.9.6",
   "mimetype": "text/x-python",
   "codemirror_mode": {
    "name": "ipython",
    "version": 3
   },
   "pygments_lexer": "ipython3",
   "nbconvert_exporter": "python",
   "file_extension": ".py"
  },
  "kernelspec": {
   "name": "python3",
   "display_name": "Python 3.9.6 64-bit"
  },
  "interpreter": {
   "hash": "0d008810b9c8467bcb3ca39aa2180e5b81b3a9acb136aab30d47954377cc5120"
  }
 },
 "nbformat": 4,
 "nbformat_minor": 2
}