{
 "cells": [
  {
   "cell_type": "code",
   "execution_count": null,
   "source": [
    "a_dictionar = {\r\n",
    "    \"adress\" : \"stuff st.26\",\r\n",
    "    \"size of land\" : 20\r\n",
    "}\r\n",
    "print(a_dictionar[\"adress\"])\r\n",
    "#a_dictionar[\"garage\" : \"Yes\"]\r\n",
    "print(a_dictionar)\r\n"
   ],
   "outputs": [],
   "metadata": {}
  },
  {
   "cell_type": "code",
   "execution_count": null,
   "source": [
    "cars = {\r\n",
    "    \"brand\" : \"Ford\",\r\n",
    "    \"model\" : \"Mustang\",\r\n",
    "    \"Year\" : 1964\r\n",
    "}\r\n",
    "print(cars.brand)\r\n",
    "print(len(cars))\r\n",
    "cars.update({\"Year\" : 2020})\r\n"
   ],
   "outputs": [],
   "metadata": {}
  },
  {
   "cell_type": "code",
   "execution_count": null,
   "source": [
    "SSet = {\"smthn1\" , \"smthn2\", 3}"
   ],
   "outputs": [],
   "metadata": {}
  },
  {
   "cell_type": "code",
   "execution_count": null,
   "source": [
    "fruits = {\"apple\", \"banana\", \"cherry\"}\r\n",
    "fruits.add(('nauja_reiksme', 5))\r\n",
    "#fruits.update([]) - requires list"
   ],
   "outputs": [],
   "metadata": {}
  },
  {
   "cell_type": "code",
   "execution_count": null,
   "source": [
    "lyrics = \"\"\"In a blackened blur of crowding clouds\r\n",
    "I dropped my sorrow among the leaves\r\n",
    "I took my place as wise men do\r\n",
    "As the storm prepared its release\r\n",
    "\r\n",
    "Through raging winds and weeping skies\r\n",
    "I sat in the loneliness of solitude\r\n",
    "I washed my eyes in growing streams\r\n",
    "Earth's resistance\r\n",
    "True magnitude\r\n",
    "\r\n",
    "As black sky faded to blue\r\n",
    "And again the Earth felt the sunrise\r\n",
    "A silver mirror stood before me\r\n",
    "Bequeath of the silent rainbow\r\n",
    "A beautiful mirror of radiant splendor\r\n",
    "As ominous as the autumn moon\r\n",
    "It brought upon me endless wonder\r\n",
    "Yet spoke of some unknown doom\r\n",
    "\r\n",
    "As I reflect back on that day\r\n",
    "No words could ever tell...\r\n",
    "I saw my world\r\n",
    "But could not see myself\r\n",
    "\r\n",
    "In strange visions\r\n",
    "And through the windows of dreams\r\n",
    "We solemnly gaze beyond\r\n",
    "What is revealed to our eyes\r\n",
    "Exists already in our minds\"\"\""
   ],
   "outputs": [],
   "metadata": {}
  },
  {
   "cell_type": "code",
   "execution_count": null,
   "source": [
    "#word_lit = [lyrics.replace(\"\\n\").replace().split(\" \")] -copy over all functions from lecture notes\r\n",
    "\r\n"
   ],
   "outputs": [],
   "metadata": {}
  },
  {
   "cell_type": "code",
   "execution_count": null,
   "source": [
    "multipla = 0\r\n",
    "my_list = [3, 6, -2, -5, 7, 3]\r\n",
    "for idx in range (1, (len(my_list))-1):\r\n",
    "    print (idx)\r\n"
   ],
   "outputs": [],
   "metadata": {}
  }
 ],
 "metadata": {
  "orig_nbformat": 4,
  "language_info": {
   "name": "python",
   "version": "3.9.6",
   "mimetype": "text/x-python",
   "codemirror_mode": {
    "name": "ipython",
    "version": 3
   },
   "pygments_lexer": "ipython3",
   "nbconvert_exporter": "python",
   "file_extension": ".py"
  },
  "kernelspec": {
   "name": "python3",
   "display_name": "Python 3.9.6 64-bit"
  },
  "interpreter": {
   "hash": "0d008810b9c8467bcb3ca39aa2180e5b81b3a9acb136aab30d47954377cc5120"
  }
 },
 "nbformat": 4,
 "nbformat_minor": 2
}