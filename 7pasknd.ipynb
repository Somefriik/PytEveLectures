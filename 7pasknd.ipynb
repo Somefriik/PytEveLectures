{
 "cells": [
  {
   "cell_type": "code",
   "execution_count": 1,
   "source": [
    "import os"
   ],
   "outputs": [],
   "metadata": {}
  },
  {
   "cell_type": "code",
   "execution_count": 3,
   "source": [
    "robot_parts = {\r\n",
    "    \"chassis\" : [\"Thunderhead\" , \"Juggernaut\"],\r\n",
    "    \"weapons\" : [\"Quake Hammer\" , \"Ice Axe\"]\r\n",
    "}"
   ],
   "outputs": [],
   "metadata": {}
  },
  {
   "cell_type": "code",
   "execution_count": null,
   "source": [
    "class Robot_Fighter():\r\n",
    "    def __init__(self , chassis , weapons , cortex , moves):\r\n",
    "        self.chassis = chassis\r\n",
    "        self.weapons = weapons\r\n",
    "        self.cortex = cortex\r\n",
    "        self.moves = moves\r\n",
    "    \r\n",
    "    def __create_robot__(self , robot_parts ):\r\n",
    "        for parts in robot_parts:"
   ],
   "outputs": [],
   "metadata": {}
  }
 ],
 "metadata": {
  "orig_nbformat": 4,
  "language_info": {
   "name": "python",
   "version": "3.9.6",
   "mimetype": "text/x-python",
   "codemirror_mode": {
    "name": "ipython",
    "version": 3
   },
   "pygments_lexer": "ipython3",
   "nbconvert_exporter": "python",
   "file_extension": ".py"
  },
  "kernelspec": {
   "name": "python3",
   "display_name": "Python 3.9.6 64-bit"
  },
  "interpreter": {
   "hash": "0d008810b9c8467bcb3ca39aa2180e5b81b3a9acb136aab30d47954377cc5120"
  }
 },
 "nbformat": 4,
 "nbformat_minor": 2
}