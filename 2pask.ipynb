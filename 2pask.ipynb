{
 "cells": [
  {
   "cell_type": "code",
   "execution_count": null,
   "source": [
    "groceries = ['apples', 'bananas' , 'juice']"
   ],
   "outputs": [],
   "metadata": {}
  },
  {
   "cell_type": "code",
   "execution_count": null,
   "source": [
    "groceries[1]"
   ],
   "outputs": [],
   "metadata": {}
  },
  {
   "cell_type": "code",
   "execution_count": null,
   "source": [
    "len(groceries)"
   ],
   "outputs": [],
   "metadata": {}
  },
  {
   "cell_type": "code",
   "execution_count": null,
   "source": [
    "groceries.append('sausages')"
   ],
   "outputs": [],
   "metadata": {}
  },
  {
   "cell_type": "code",
   "execution_count": null,
   "source": [
    "print (groceries)"
   ],
   "outputs": [],
   "metadata": {}
  },
  {
   "cell_type": "code",
   "execution_count": null,
   "source": [
    "groceries = groceries + ['bread']\r\n",
    "print (groceries)"
   ],
   "outputs": [],
   "metadata": {}
  },
  {
   "cell_type": "code",
   "execution_count": null,
   "source": [
    "groceries = groceries * 2\r\n",
    "print (len(groceries))"
   ],
   "outputs": [],
   "metadata": {}
  },
  {
   "cell_type": "code",
   "execution_count": null,
   "source": [
    "#'cheese' in groceries\r\n",
    "'bread' in groceries"
   ],
   "outputs": [],
   "metadata": {}
  },
  {
   "cell_type": "code",
   "execution_count": null,
   "source": [
    "groceries.count('bread')\r\n",
    "groceries.index('sausages')"
   ],
   "outputs": [],
   "metadata": {}
  },
  {
   "cell_type": "code",
   "execution_count": null,
   "source": [
    "list_1 = [3 , \"2\" , 4.0]\r\n",
    "list_2 = [7 , 8 , 9]\r\n",
    "#list_1.append(list_2)\r\n",
    "#list_1[1] = 5 - keisti nari liste\r\n",
    "list_1.extend(list_2)\r\n",
    "print (list_1)"
   ],
   "outputs": [],
   "metadata": {}
  },
  {
   "cell_type": "code",
   "execution_count": null,
   "source": [
    "list_3 = [65464 , 12 , 93 , 40]\r\n",
    "#list_3.sort()\r\n",
    "list_3.sort(reverse=True)\r\n"
   ],
   "outputs": [],
   "metadata": {}
  },
  {
   "cell_type": "code",
   "execution_count": null,
   "source": [
    "list_3.pop(2) #prints"
   ],
   "outputs": [],
   "metadata": {}
  },
  {
   "cell_type": "code",
   "execution_count": null,
   "source": [
    "list_3.remove(93) #doesnt print"
   ],
   "outputs": [],
   "metadata": {}
  },
  {
   "cell_type": "code",
   "execution_count": null,
   "source": [
    "#mutable and unmutable\r\n",
    "import copy # safest way to work with mutables\r\n",
    "list_1 = [5 , 3 ,2]\r\n",
    "#list_2 = list_1.copy\r\n",
    "print(id(list_1))\r\n",
    "print(id(list_2))\r\n",
    "list_2[2].append(10)\r\n",
    "print ('after')\r\n",
    "print(id(list_1))\r\n",
    "print(id(list_2))\r\n"
   ],
   "outputs": [],
   "metadata": {}
  },
  {
   "cell_type": "code",
   "execution_count": null,
   "source": [
    "#semi private\r\n",
    "_priv_numb = 5"
   ],
   "outputs": [],
   "metadata": {}
  },
  {
   "cell_type": "code",
   "execution_count": null,
   "source": [
    "nested_list = [ 1, [[[[[[5]]]]]],2]\r\n",
    "#nested_list[1][1][0][0][0][0][0]"
   ],
   "outputs": [],
   "metadata": {}
  },
  {
   "cell_type": "code",
   "execution_count": null,
   "source": [
    "#tuple () - unmutable\r\n",
    "tuple_1 = (1 , '2' ,3, [ 5, 3 ])\r\n",
    "tuple_2 = (4 , '2' ,3, [ 5, 3 ])\r\n"
   ],
   "outputs": [],
   "metadata": {}
  },
  {
   "cell_type": "code",
   "execution_count": null,
   "source": [
    "#tuple_3 = tuple_2 + tuple_1, count and index, slicing, len(), in"
   ],
   "outputs": [],
   "metadata": {}
  },
  {
   "cell_type": "code",
   "execution_count": null,
   "source": [
    "tuple_adds = tuple_1 + tuple_2\r\n",
    "list_tmp = list(tuple_adds)\r\n",
    "#print (list_tmp)\r\n",
    "list_tmp[2] = 5\r\n",
    "tuple_1 = tuple(list_tmp)\r\n",
    "#sorted(tuple_1)  sorts 1 type only\r\n",
    "#max - istraukti didziausia reikshme\r\n",
    "tuple_1.count(2)"
   ],
   "outputs": [],
   "metadata": {}
  },
  {
   "cell_type": "code",
   "execution_count": null,
   "source": [
    "list(range(0 , -35 , -3)) #positive and negative range define and step. range is unmutable"
   ],
   "outputs": [],
   "metadata": {}
  },
  {
   "cell_type": "code",
   "execution_count": null,
   "source": [
    "niekas = None\r\n",
    "print (type(niekas))\r\n",
    "vardas = None\r\n",
    "result =  input(\"koks vardas\")"
   ],
   "outputs": [],
   "metadata": {}
  },
  {
   "cell_type": "code",
   "execution_count": null,
   "source": [
    "print (result)"
   ],
   "outputs": [],
   "metadata": {}
  },
  {
   "cell_type": "code",
   "execution_count": null,
   "source": [
    "vardas = input(\"name?\")"
   ],
   "outputs": [],
   "metadata": {}
  },
  {
   "cell_type": "code",
   "execution_count": null,
   "source": [
    "if vardas is not None:\r\n",
    "    print (f\"Jo vardas {vardas}\")"
   ],
   "outputs": [],
   "metadata": {}
  },
  {
   "cell_type": "code",
   "execution_count": null,
   "source": [
    "for smthn in range(10):\r\n",
    "    print(\"skaicius\")\r\n",
    "    print(smthn)\r\n",
    "    for smthn in range(2):\r\n",
    "        print(\"ha\")"
   ],
   "outputs": [],
   "metadata": {}
  },
  {
   "cell_type": "code",
   "execution_count": null,
   "source": [
    "cities = [\"Vilnius\" , \"Kaunas\" , \"Klaipeda\"]\r\n",
    "for city in cities[::-1]: #slicing works\r\n",
    "    print(f\"Dabar: {city}\")"
   ],
   "outputs": [],
   "metadata": {}
  }
 ],
 "metadata": {
  "orig_nbformat": 4,
  "language_info": {
   "name": "python",
   "version": "3.9.6",
   "mimetype": "text/x-python",
   "codemirror_mode": {
    "name": "ipython",
    "version": 3
   },
   "pygments_lexer": "ipython3",
   "nbconvert_exporter": "python",
   "file_extension": ".py"
  },
  "kernelspec": {
   "name": "python3",
   "display_name": "Python 3.9.6 64-bit"
  },
  "interpreter": {
   "hash": "0d008810b9c8467bcb3ca39aa2180e5b81b3a9acb136aab30d47954377cc5120"
  }
 },
 "nbformat": 4,
 "nbformat_minor": 2
}