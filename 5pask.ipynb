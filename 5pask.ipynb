{
 "cells": [
  {
   "cell_type": "code",
   "execution_count": null,
   "source": [
    "list_1=[1,2]\r\n",
    "list_2=[1,1,2,3,3,3,3,1]\r\n",
    "\r\n",
    "def list_check (list_1, list_2):\r\n",
    "    iter_items = 0\r\n",
    "    for list_items in set(list_1) and set(list_2): # nested loops better? yes ,lists differ. can be remade as a dict, use fromkeys func\r\n",
    "        iter_items +=1 "
   ],
   "outputs": [],
   "metadata": {}
  },
  {
   "cell_type": "code",
   "execution_count": null,
   "source": [
    "goods = [\"potatoes\" , \"celery\", \"cabbage\" , \"carrots\" , \"cucumber\"]\r\n",
    "bads = [\"crisps\" , \"corn flakes\" , \"chocos\" , \"vodka\"]"
   ],
   "outputs": [],
   "metadata": {}
  },
  {
   "cell_type": "code",
   "execution_count": null,
   "source": [
    "a_shoplist = []\r\n",
    "def shop_list (a_shoplist, goods = goods , bads = bads):\r\n",
    "    hlthy_itm = []\r\n",
    "    unhlthy_itm = []\r\n",
    "    unknown_itm = []\r\n",
    "    for itms in a_shoplist:\r\n",
    "        if itms in goods:\r\n",
    "            hlthy_itm.append(itms)\r\n",
    "        elif itms in bads:\r\n",
    "                unhlthy_itm.append(itms)\r\n",
    "        else:\r\n",
    "            unknown_itm.append(itms)\r\n",
    "    print(f\"Goods : {hlthy_itm}\")\r\n",
    "    print(f\"Bads: {unhlthy_itm}\")\r\n",
    "    print(f\"unknown: {unknown_itm}\")"
   ],
   "outputs": [],
   "metadata": {}
  },
  {
   "cell_type": "code",
   "execution_count": null,
   "source": [
    "from string import ascii_letters, punctuation, digits\r\n",
    "from random import choice, randint\r\n",
    "tmp_password = []\r\n",
    "chooselength = None\r\n",
    "pass_parts = ascii_letters + punctuation + digits\r\n",
    "def passwd_gen(chooselength):\r\n",
    "    chooselength = int(input(\"Length of password\"))\r\n",
    "    for x \r\n",
    "    return tmp_password\r\n",
    " "
   ],
   "outputs": [],
   "metadata": {}
  },
  {
   "cell_type": "code",
   "execution_count": null,
   "source": [
    "passwd_gen(8)"
   ],
   "outputs": [],
   "metadata": {}
  }
 ],
 "metadata": {
  "orig_nbformat": 4,
  "language_info": {
   "name": "python",
   "version": "3.9.6",
   "mimetype": "text/x-python",
   "codemirror_mode": {
    "name": "ipython",
    "version": 3
   },
   "pygments_lexer": "ipython3",
   "nbconvert_exporter": "python",
   "file_extension": ".py"
  },
  "kernelspec": {
   "name": "python3",
   "display_name": "Python 3.9.6 64-bit"
  },
  "interpreter": {
   "hash": "0d008810b9c8467bcb3ca39aa2180e5b81b3a9acb136aab30d47954377cc5120"
  }
 },
 "nbformat": 4,
 "nbformat_minor": 2
}